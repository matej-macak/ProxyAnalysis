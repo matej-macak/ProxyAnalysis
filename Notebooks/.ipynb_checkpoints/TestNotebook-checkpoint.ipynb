{
 "cells": [
  {
   "cell_type": "code",
   "execution_count": null,
   "metadata": {},
   "outputs": [
    {
     "name": "stdout",
     "output_type": "stream",
     "text": [
      "You are now connected to the streaming API.\n"
     ]
    }
   ],
   "source": [
    "%matplotlib ipympl\n",
    "import json\n",
    "import requests\n",
    "import pandas as pd\n",
    "from bs4 import BeautifulSoup\n",
    "import tweepy\n",
    "from tweepy import StreamListener\n",
    "import ast\n",
    "  \n",
    "\n",
    "class MyStreamListener(StreamListener):\n",
    "    \n",
    "    def __init__(self, output_path):\n",
    "        StreamListener.__init__(self)\n",
    "        \n",
    "        # Initialise counter and storage variables\n",
    "        self._counter = 1\n",
    "        self._output_path = output_path\n",
    "        self._data = []\n",
    "\n",
    "    def on_connect(self):\n",
    "        # Called initially to connect to the Streaming API\n",
    "        print(\"You are now connected to the streaming API.\")\n",
    " \n",
    "    def on_error(self, status_code):\n",
    "        # On error - if an error occurs, display the error / status code\n",
    "        print('An Error has occured: ' + repr(status_code))\n",
    "        return False    \n",
    "        \n",
    "    def on_status(self, status, no_per_file = 1000):\n",
    "        \"\"\" Main method to output data into files from the Twitter stream. Number of statuses are defined by\n",
    "        no_per_file attribute.\"\"\"\n",
    "\n",
    "        self._data.append(status._json)\n",
    "        if self._counter % no_per_file == 0:\n",
    "            file_name = \"{}/{}.json\".format(self._output_path,self._counter)\n",
    "            with open(file_name, 'w') as outfile:\n",
    "                json.dump(self._data, outfile)\n",
    "        \n",
    "            # Add to counter and reset data storage\n",
    "            self._counter += 1\n",
    "            self._data = []\n",
    "        else:\n",
    "            self._counter += 1\n",
    "        \n",
    "if __name__ == \"__main__\":\n",
    "\n",
    "    output_path = \"/mnt/c/Data/Twitter/\"\n",
    "    credentials_path = \"/mnt/c/GitHub/ProxyAnalysis/Credentials/credentials.json\"\n",
    "    \n",
    "    with open(credentials_path,\"r\") as fp:\n",
    "        credentials = json.load(fp)\n",
    "    \n",
    "    auth = tweepy.OAuthHandler(credentials[\"CONSUMER_KEY\"], credentials[\"CONSUMER_SECRET\"])\n",
    "    auth.set_access_token(credentials[\"ACCESS_TOKEN\"], credentials[\"ACCESS_SECRET\"])\n",
    "    api = tweepy.API(auth,wait_on_rate_limit=True)\n",
    "\n",
    "    myStreamListener = MyStreamListener(output_path)\n",
    "    myStream = tweepy.Stream(auth = api.auth, listener=MyStreamListener(output_path))\n",
    "\n",
    "    syria = (35.7270, 32.3106, 42.3850, 37.3190)\n",
    "    myStream.filter(locations=syria)"
   ]
  },
  {
   "cell_type": "code",
   "execution_count": null,
   "metadata": {},
   "outputs": [],
   "source": [
    "### Save credentials to credentials file on Amazon AWS"
   ]
  },
  {
   "cell_type": "code",
   "execution_count": 2,
   "metadata": {},
   "outputs": [],
   "source": [
    "import json\n",
    "\n",
    "credentials = {}\n",
    "credentials[\"CONSUMER_KEY\"] = \"\"\n",
    "credentials[\"CONSUMER_SECRET\"] = \"\"\n",
    "credentials[\"ACCESS_TOKEN\"] = \"\"\n",
    "credentials[\"ACCESS_SECRET\"] = \"\"\n",
    "\n",
    "with open(\"/home/ec2-user/credentials/credentials.json\",\"w\") as fp:\n",
    "    json.dump(credentials, fp)\n",
    "    \n",
    "\n",
    "\n",
    "\n"
   ]
  },
  {
   "cell_type": "code",
   "execution_count": null,
   "metadata": {},
   "outputs": [],
   "source": []
  }
 ],
 "metadata": {
  "kernelspec": {
   "display_name": "Python 3",
   "language": "python",
   "name": "python3"
  },
  "language_info": {
   "codemirror_mode": {
    "name": "ipython",
    "version": 3
   },
   "file_extension": ".py",
   "mimetype": "text/x-python",
   "name": "python",
   "nbconvert_exporter": "python",
   "pygments_lexer": "ipython3",
   "version": "3.6.5"
  }
 },
 "nbformat": 4,
 "nbformat_minor": 2
}
