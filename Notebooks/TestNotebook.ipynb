{
 "cells": [
  {
   "cell_type": "code",
   "execution_count": null,
   "metadata": {},
   "outputs": [],
   "source": [
    "%matplotlib ipympl\n",
    "import json\n",
    "import requests\n",
    "import pandas as pd\n",
    "import matplotlib.pyplot as plt\n",
    "from bs4 import BeautifulSoup\n",
    "import tweepy\n",
    "from tweepy import StreamListener\n",
    "import ast\n",
    "\n",
    "# Enter your keys/secrets as strings in the following fields\n",
    "credentials = {}  \n",
    "\n",
    "class MyStreamListener(StreamListener):\n",
    "\n",
    "    def __init__(self):\n",
    "        StreamListener.__init__(self)\n",
    "        \n",
    "        # Initialise counter\n",
    "        self.counter = 0\n",
    "    \n",
    "    def on_status(self, status):\n",
    "        \n",
    "        file_name = \"/home/matej/Programming/Twitter/{}.json\".format(self.counter)\n",
    "        with open(file_name, 'w') as outfile:\n",
    "            json.dump(status._json, outfile)\n",
    "        \n",
    "        self.counter += 1\n",
    "        \n",
    "if __name__ == \"__main__\":\n",
    "        \n",
    "    auth = tweepy.OAuthHandler(credentials[\"CONSUMER_KEY\"], credentials[\"CONSUMER_SECRET\"])\n",
    "    auth.set_access_token(credentials[\"ACCESS_TOKEN\"], credentials[\"ACCESS_SECRET\"])\n",
    "    api = tweepy.API(auth)\n",
    "\n",
    "    myStreamListener = MyStreamListener()\n",
    "    myStream = tweepy.Stream(auth = api.auth, listener=MyStreamListener())\n",
    "\n",
    "    syria = (35.7270, 32.3106, 42.3850, 37.3190)\n",
    "    myStream.filter(locations=syria)"
   ]
  }
 ],
 "metadata": {
  "kernelspec": {
   "display_name": "Python 3",
   "language": "python",
   "name": "python3"
  },
  "language_info": {
   "codemirror_mode": {
    "name": "ipython",
    "version": 3
   },
   "file_extension": ".py",
   "mimetype": "text/x-python",
   "name": "python",
   "nbconvert_exporter": "python",
   "pygments_lexer": "ipython3",
   "version": "3.6.5"
  }
 },
 "nbformat": 4,
 "nbformat_minor": 2
}
